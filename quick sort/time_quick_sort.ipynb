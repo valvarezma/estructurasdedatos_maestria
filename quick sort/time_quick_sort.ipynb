{
 "cells": [
  {
   "cell_type": "code",
   "execution_count": 5,
   "metadata": {},
   "outputs": [
    {
     "name": "stdout",
     "output_type": "stream",
     "text": [
      "Tiempos de ejecución para diferentes tamaños de entrada:\n",
      "| Tamaño de la lista | Tiempo de ejecución (segundos) |\n",
      "|--------------------|-------------------------------|\n",
      "|                 100 |          0.000499725341796875 |\n",
      "|                1000 |           0.04338836669921875 |\n",
      "|                2000 |           0.17557024955749512 |\n",
      "|                3000 |           0.40588879585266113 |\n",
      "|                4000 |            0.6968598365783691 |\n",
      "|                5000 |              1.08433198928833 |\n",
      "|                6000 |            1.6039330959320068 |\n",
      "|                7000 |            2.3134260177612305 |\n",
      "|                8000 |            3.0258920192718506 |\n",
      "|                9000 |             3.569977045059204 |\n",
      "|               10000 |             4.645181655883789 |\n",
      "|               20000 |             19.86392903327942 |\n",
      "|               30000 |            49.186946868896484 |\n",
      "|               40000 |             86.31878209114075 |\n",
      "|               50000 |            154.09901762008667 |\n",
      "Resultados almacenados en la lista 'results':\n",
      "[(100, 0.000499725341796875), (1000, 0.04338836669921875), (2000, 0.17557024955749512), (3000, 0.40588879585266113), (4000, 0.6968598365783691), (5000, 1.08433198928833), (6000, 1.6039330959320068), (7000, 2.3134260177612305), (8000, 3.0258920192718506), (9000, 3.569977045059204), (10000, 4.645181655883789), (20000, 19.86392903327942), (30000, 49.186946868896484), (40000, 86.31878209114075), (50000, 154.09901762008667)]\n"
     ]
    }
   ],
   "source": [
    "import random\n",
    "import time\n",
    "import csv\n",
    "\n",
    "def partition(arr, low, high):\n",
    "    pivot = arr[high]\n",
    "    i = low - 1\n",
    "    for j in range(low, high):\n",
    "        if arr[j] < pivot:\n",
    "            i += 1\n",
    "            arr[i], arr[j] = arr[j], arr[i]\n",
    "    arr[i + 1], arr[high] = arr[high], arr[i + 1]\n",
    "    return i + 1\n",
    "\n",
    "def quick_sort(arr, low, high):\n",
    "    if low < high:\n",
    "        pivot_index = partition(arr, low, high)\n",
    "        quick_sort(arr, low, pivot_index - 1)\n",
    "        quick_sort(arr, pivot_index + 1, high)\n",
    "\n",
    "def measure_time_sorting(algorithm, list_size):\n",
    "    arr = [random.randint(1, 100000) for _ in range(list_size)]\n",
    "    \n",
    "    start_time = time.time()\n",
    "    algorithm(arr, 0, list_size - 1)\n",
    "    end_time = time.time()\n",
    "\n",
    "    return end_time - start_time\n",
    "\n",
    "def main():\n",
    "    list_sizes = [100, 1000, 2000, 3000, 4000, 5000, 6000, 7000, 8000, 9000, 10000, 20000, 30000, 40000, 50000]\n",
    "\n",
    "    print(\"Tiempos de ejecución para diferentes tamaños de entrada:\")\n",
    "    print(\"| Tamaño de la lista | Tiempo de ejecución (segundos) |\")\n",
    "    print(\"|--------------------|-------------------------------|\")\n",
    "\n",
    "    results = []\n",
    "\n",
    "    for size in list_sizes:\n",
    "        execution_time = measure_time_sorting(quick_sort, size)\n",
    "        results.append([size, execution_time])\n",
    "        print(f\"| {size:19} | {execution_time:29} |\")\n",
    "\n",
    "    with open('results_quick_sort.csv', 'w', newline='') as file:\n",
    "        writer = csv.writer(file)\n",
    "        writer.writerow(['Size', 'Time'])\n",
    "        writer.writerows(results)\n",
    "\n",
    "    print(\"Resultados exportados a results_quick_sort.csv\")\n",
    "\n",
    "if __name__ == \"__main__\":\n",
    "    main()\n"
   ]
  }
 ],
 "metadata": {
  "kernelspec": {
   "display_name": "Python 3",
   "language": "python",
   "name": "python3"
  },
  "language_info": {
   "codemirror_mode": {
    "name": "ipython",
    "version": 3
   },
   "file_extension": ".py",
   "mimetype": "text/x-python",
   "name": "python",
   "nbconvert_exporter": "python",
   "pygments_lexer": "ipython3",
   "version": "3.10.10"
  },
  "orig_nbformat": 4
 },
 "nbformat": 4,
 "nbformat_minor": 2
}
