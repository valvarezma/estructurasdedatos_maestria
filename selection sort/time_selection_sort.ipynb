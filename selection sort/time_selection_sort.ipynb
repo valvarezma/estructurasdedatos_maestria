{
 "cells": [
  {
   "cell_type": "code",
   "execution_count": 4,
   "metadata": {},
   "outputs": [
    {
     "name": "stdout",
     "output_type": "stream",
     "text": [
      "Tiempos de ejecución para diferentes tamaños de entrada:\n",
      "| Tamaño de la lista | Tiempo de ejecución (segundos) |\n",
      "|--------------------|-------------------------------|\n",
      "|                 100 |                           0.0 |\n",
      "|                1000 |          0.019112825393676758 |\n",
      "|                2000 |           0.07874774932861328 |\n",
      "|                3000 |           0.17165517807006836 |\n",
      "|                4000 |             0.305300235748291 |\n",
      "|                5000 |            0.4606466293334961 |\n",
      "|                6000 |            0.6915559768676758 |\n",
      "|                7000 |            0.9038209915161133 |\n",
      "|                8000 |            1.1668384075164795 |\n",
      "|                9000 |             1.571058988571167 |\n",
      "|               10000 |            2.0002682209014893 |\n",
      "|               20000 |            10.075387239456177 |\n",
      "|               30000 |            20.958584547042847 |\n",
      "|               40000 |            36.644758224487305 |\n",
      "|               50000 |             59.19840598106384 |\n",
      "Resultados exportados a results_selection_sort.csv\n"
     ]
    }
   ],
   "source": [
    "import random\n",
    "import time\n",
    "import csv\n",
    "\n",
    "def selection_sort(arr):\n",
    "    n = len(arr)\n",
    "    for i in range(n - 1):\n",
    "        min_index = i\n",
    "        for j in range(i + 1, n):\n",
    "            if arr[j] < arr[min_index]:\n",
    "                min_index = j\n",
    "        arr[i], arr[min_index] = arr[min_index], arr[i]\n",
    "\n",
    "def measure_time_sorting(algorithm, list_size):\n",
    "    arr = [random.randint(1, 100000) for _ in range(list_size)]\n",
    "    \n",
    "    start_time = time.time()\n",
    "    algorithm(arr)\n",
    "    end_time = time.time()\n",
    "\n",
    "    return end_time - start_time\n",
    "\n",
    "def main():\n",
    "    list_sizes = [100, 1000, 2000, 3000, 4000, 5000, 6000, 7000, 8000, 9000, 10000, 20000, 30000, 40000, 50000]\n",
    "\n",
    "    print(\"Tiempos de ejecución para diferentes tamaños de entrada:\")\n",
    "    print(\"| Tamaño de la lista | Tiempo de ejecución (segundos) |\")\n",
    "    print(\"|--------------------|-------------------------------|\")\n",
    "\n",
    "    results = []\n",
    "\n",
    "    for size in list_sizes:\n",
    "        execution_time = measure_time_sorting(selection_sort, size)\n",
    "        results.append([size, execution_time])\n",
    "        print(f\"| {size:19} | {execution_time:29} |\")\n",
    "\n",
    "    with open('results_selection_sort.csv', 'w', newline='') as file:\n",
    "        writer = csv.writer(file)\n",
    "        writer.writerow(['Size', 'Time'])\n",
    "        writer.writerows(results)\n",
    "\n",
    "    print(\"Resultados exportados a results_selection_sort.csv\")\n",
    "\n",
    "if __name__ == \"__main__\":\n",
    "    main()\n"
   ]
  }
 ],
 "metadata": {
  "kernelspec": {
   "display_name": "Python 3",
   "language": "python",
   "name": "python3"
  },
  "language_info": {
   "codemirror_mode": {
    "name": "ipython",
    "version": 3
   },
   "file_extension": ".py",
   "mimetype": "text/x-python",
   "name": "python",
   "nbconvert_exporter": "python",
   "pygments_lexer": "ipython3",
   "version": "3.10.10"
  },
  "orig_nbformat": 4
 },
 "nbformat": 4,
 "nbformat_minor": 2
}
