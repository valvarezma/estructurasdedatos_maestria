{
 "cells": [
  {
   "cell_type": "code",
   "execution_count": 1,
   "metadata": {},
   "outputs": [
    {
     "name": "stdout",
     "output_type": "stream",
     "text": [
      "Medianas exportadas a medians.csv\n",
      "Desviaciones estándar exportadas a std_deviations.csv\n"
     ]
    }
   ],
   "source": [
    "import csv\n",
    "import numpy as np\n",
    "\n",
    "def read_csv(file_path):\n",
    "    with open(file_path, 'r') as csvfile:\n",
    "        reader = csv.DictReader(csvfile)\n",
    "        data = [(int(row['Size']), float(row['Time'])) for row in reader]\n",
    "    return data\n",
    "\n",
    "def calculate_median(data):\n",
    "    sizes, times = zip(*data)\n",
    "    unique_sizes = sorted(set(sizes))\n",
    "    medians = []\n",
    "\n",
    "    for size in unique_sizes:\n",
    "        times_for_size = [time for s, time in data if s == size]\n",
    "        median = np.median(times_for_size)\n",
    "        medians.append((size, median))\n",
    "\n",
    "    return medians\n",
    "\n",
    "def calculate_std_deviation(data):\n",
    "    sizes, times = zip(*data)\n",
    "    unique_sizes = sorted(set(sizes))\n",
    "    std_deviations = []\n",
    "\n",
    "    for size in unique_sizes:\n",
    "        times_for_size = [time for s, time in data if s == size]\n",
    "        std_deviation = np.std(times_for_size)\n",
    "        std_deviations.append((size, std_deviation))\n",
    "\n",
    "    return std_deviations\n",
    "\n",
    "def export_to_csv(file_name, header, data):\n",
    "    with open(file_name, 'w', newline='') as csvfile:\n",
    "        writer = csv.writer(csvfile)\n",
    "        writer.writerow(header)\n",
    "        for row in data:\n",
    "            writer.writerow(row)\n",
    "\n",
    "if __name__ == \"__main__\":\n",
    "    num_files = 5\n",
    "    all_data = []\n",
    "\n",
    "    for i in range(num_files):\n",
    "        file_path = f'results_quick_sort_{i + 1}.csv'\n",
    "        data = read_csv(file_path)\n",
    "        all_data.extend(data)\n",
    "\n",
    "    medians = calculate_median(all_data)\n",
    "    std_deviations = calculate_std_deviation(all_data)\n",
    "\n",
    "    export_to_csv('results_cpp_media.csv', ['Size', 'Time'], medians)\n",
    "    export_to_csv('results_cpp_desv.csv', ['Size', 'Desv'], std_deviations)\n",
    "\n",
    "    print(\"Medianas exportadas a medians.csv\")\n",
    "    print(\"Desviaciones estándar exportadas a std_deviations.csv\")\n"
   ]
  }
 ],
 "metadata": {
  "kernelspec": {
   "display_name": "Python 3",
   "language": "python",
   "name": "python3"
  },
  "language_info": {
   "codemirror_mode": {
    "name": "ipython",
    "version": 3
   },
   "file_extension": ".py",
   "mimetype": "text/x-python",
   "name": "python",
   "nbconvert_exporter": "python",
   "pygments_lexer": "ipython3",
   "version": "3.10.10"
  },
  "orig_nbformat": 4
 },
 "nbformat": 4,
 "nbformat_minor": 2
}
