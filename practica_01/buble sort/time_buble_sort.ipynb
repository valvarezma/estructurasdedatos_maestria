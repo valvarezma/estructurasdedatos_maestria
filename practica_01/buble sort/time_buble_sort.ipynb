{
 "cells": [
  {
   "cell_type": "code",
   "execution_count": 5,
   "metadata": {},
   "outputs": [
    {
     "name": "stdout",
     "output_type": "stream",
     "text": [
      "Tiempos de ejecución para diferentes tamaños de entrada:\n",
      "| Tamaño de la lista | Tiempo de ejecución (segundos) |\n",
      "|--------------------|-------------------------------|\n",
      "|                 100 |          0.000499725341796875 |\n",
      "|                1000 |           0.04338836669921875 |\n",
      "|                2000 |           0.17557024955749512 |\n",
      "|                3000 |           0.40588879585266113 |\n",
      "|                4000 |            0.6968598365783691 |\n",
      "|                5000 |              1.08433198928833 |\n",
      "|                6000 |            1.6039330959320068 |\n",
      "|                7000 |            2.3134260177612305 |\n",
      "|                8000 |            3.0258920192718506 |\n",
      "|                9000 |             3.569977045059204 |\n",
      "|               10000 |             4.645181655883789 |\n",
      "|               20000 |             19.86392903327942 |\n",
      "|               30000 |            49.186946868896484 |\n",
      "|               40000 |             86.31878209114075 |\n",
      "|               50000 |            154.09901762008667 |\n",
      "Resultados almacenados en la lista 'results':\n",
      "[(100, 0.000499725341796875), (1000, 0.04338836669921875), (2000, 0.17557024955749512), (3000, 0.40588879585266113), (4000, 0.6968598365783691), (5000, 1.08433198928833), (6000, 1.6039330959320068), (7000, 2.3134260177612305), (8000, 3.0258920192718506), (9000, 3.569977045059204), (10000, 4.645181655883789), (20000, 19.86392903327942), (30000, 49.186946868896484), (40000, 86.31878209114075), (50000, 154.09901762008667)]\n"
     ]
    }
   ],
   "source": [
    "import random\n",
    "import time\n",
    "import csv\n",
    "\n",
    "def export_to_csv_python(results):\n",
    "    with open('results_python.csv', 'w', newline='') as csvfile:\n",
    "        fieldnames = ['Tamaño de la lista', 'Tiempo de ejecución (segundos)']\n",
    "        writer = csv.DictWriter(csvfile, fieldnames=fieldnames)\n",
    "        writer.writeheader()\n",
    "        \n",
    "        for size, time in results:\n",
    "            writer.writerow({'Tamaño de la lista': size, 'Tiempo de ejecución (segundos)': time})\n",
    "\n",
    "def bubble_sort(arr):\n",
    "    n = len(arr)\n",
    "    for i in range(n):\n",
    "        for j in range(0, n-i-1):\n",
    "            if arr[j] > arr[j+1]:\n",
    "                arr[j], arr[j+1] = arr[j+1], arr[j]\n",
    "\n",
    "def measure_time_sorting(algorithm, list_size):\n",
    "    arr = [random.randint(1, 100000) for _ in range(list_size)]\n",
    "\n",
    "    start_time = time.time()\n",
    "    algorithm(arr)\n",
    "    end_time = time.time()\n",
    "\n",
    "    return end_time - start_time\n",
    "\n",
    "if __name__ == \"__main__\":\n",
    "    list_sizes = [100, 1000, 2000, 3000, 4000, 5000, 6000, 7000, 8000, 9000, 10000, 20000, 30000, 40000, 50000]\n",
    "\n",
    "    print(\"Tiempos de ejecución para diferentes tamaños de entrada:\")\n",
    "    print(\"| Tamaño de la lista | Tiempo de ejecución (segundos) |\")\n",
    "    print(\"|--------------------|-------------------------------|\")\n",
    "\n",
    "    results = []\n",
    "\n",
    "    for size in list_sizes:\n",
    "        execution_time = measure_time_sorting(bubble_sort, size)\n",
    "        results.append((size, execution_time))\n",
    "        print(f\"| {size:19} | {execution_time:29} |\")\n",
    "\n",
    "    print(\"Resultados almacenados en la lista 'results':\")\n",
    "    print(results)\n",
    "\n",
    "    export_to_csv_python(results)\n"
   ]
  }
 ],
 "metadata": {
  "kernelspec": {
   "display_name": "Python 3",
   "language": "python",
   "name": "python3"
  },
  "language_info": {
   "codemirror_mode": {
    "name": "ipython",
    "version": 3
   },
   "file_extension": ".py",
   "mimetype": "text/x-python",
   "name": "python",
   "nbconvert_exporter": "python",
   "pygments_lexer": "ipython3",
   "version": "3.10.10"
  },
  "orig_nbformat": 4
 },
 "nbformat": 4,
 "nbformat_minor": 2
}
