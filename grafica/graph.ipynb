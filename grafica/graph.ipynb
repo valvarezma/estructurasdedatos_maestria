{
 "cells": [
  {
   "cell_type": "code",
   "execution_count": 4,
   "metadata": {},
   "outputs": [
    {
     "ename": "ValueError",
     "evalue": "too many values to unpack (expected 2)",
     "output_type": "error",
     "traceback": [
      "\u001b[1;31m---------------------------------------------------------------------------\u001b[0m",
      "\u001b[1;31mValueError\u001b[0m                                Traceback (most recent call last)",
      "Cell \u001b[1;32mIn[4], line 80\u001b[0m\n\u001b[0;32m     77\u001b[0m results_cpp \u001b[39m=\u001b[39m read_csv(\u001b[39m'\u001b[39m\u001b[39mresults_cpp_media.csv\u001b[39m\u001b[39m'\u001b[39m)\n\u001b[0;32m     78\u001b[0m results_go \u001b[39m=\u001b[39m read_csv(\u001b[39m'\u001b[39m\u001b[39mresults_go_media.csv\u001b[39m\u001b[39m'\u001b[39m)\n\u001b[1;32m---> 80\u001b[0m plot_mean_comparison(results_python, results_cpp, results_go)\n\u001b[0;32m     81\u001b[0m \u001b[39m#plot_std_comparison(results_python, results_cpp, results_go)\u001b[39;00m\n",
      "Cell \u001b[1;32mIn[4], line 22\u001b[0m, in \u001b[0;36mplot_mean_comparison\u001b[1;34m(results_python, results_cpp, results_go)\u001b[0m\n\u001b[0;32m     19\u001b[0m plt\u001b[39m.\u001b[39mgrid(\u001b[39mTrue\u001b[39;00m)\n\u001b[0;32m     21\u001b[0m \u001b[39m# Python\u001b[39;00m\n\u001b[1;32m---> 22\u001b[0m mean_time_python, _ \u001b[39m=\u001b[39m (results_python)\n\u001b[0;32m     23\u001b[0m sizes_python, times_python \u001b[39m=\u001b[39m \u001b[39mzip\u001b[39m(\u001b[39m*\u001b[39mresults_python)\n\u001b[0;32m     24\u001b[0m plt\u001b[39m.\u001b[39mplot(sizes_python, times_python, label\u001b[39m=\u001b[39m\u001b[39m'\u001b[39m\u001b[39mPython\u001b[39m\u001b[39m'\u001b[39m, marker\u001b[39m=\u001b[39m\u001b[39m'\u001b[39m\u001b[39mo\u001b[39m\u001b[39m'\u001b[39m, linestyle\u001b[39m=\u001b[39m\u001b[39m'\u001b[39m\u001b[39m-\u001b[39m\u001b[39m'\u001b[39m)\n",
      "\u001b[1;31mValueError\u001b[0m: too many values to unpack (expected 2)"
     ]
    },
    {
     "data": {
      "image/png": "[encoded data removed]",
      "text/plain": [
       "<Figure size 1000x600 with 1 Axes>"
      ]
     },
     "metadata": {},
     "output_type": "display_data"
    }
   ],
   "source": [
    "import csv\n",
    "import matplotlib.pyplot as plt\n",
    "import numpy as np\n",
    "\n",
    "def read_csv(file_path):\n",
    "    with open(file_path, 'r') as csvfile:\n",
    "        reader = csv.DictReader(csvfile)\n",
    "        data = [(int(row['Size']), float(row['Time'])) for row in reader]\n",
    "    return data\n",
    "\n",
    "def calculate_mean_and_std(results):\n",
    "    sizes, times = zip(*results)\n",
    "    mean_time = np.mean(times)\n",
    "    std_time = np.std(times)\n",
    "    return mean_time, std_time\n",
    "\n",
    "def plot_mean_comparison(results_python, results_cpp, results_go):\n",
    "    plt.figure(figsize=(10, 6))\n",
    "    plt.grid(True)\n",
    "\n",
    "    # Python\n",
    "    \n",
    "    sizes_python, times_python = zip(*results_python)\n",
    "    plt.plot(sizes_python, times_python, label='Python', marker='o', linestyle='-')\n",
    "\n",
    "    # C++\n",
    "    \n",
    "    sizes_cpp, times_cpp = zip(*results_cpp)\n",
    "    plt.plot(sizes_cpp, times_cpp, label='C++', marker='s', linestyle='--')\n",
    "\n",
    "    # Go\n",
    "    \n",
    "    sizes_go, times_go = zip(*results_go)\n",
    "    plt.plot(sizes_go, times_go, label='Go', marker='x', linestyle='-.')\n",
    "    \n",
    "    plt.xlabel('Tamaño de la lista')\n",
    "    plt.ylabel('Tiempo de ejecución (segundos)')\n",
    "    plt.title('Comparativa de tiempos medios de ejecución entre Python, C++ y Go')\n",
    "    plt.legend()\n",
    "    plt.tight_layout()\n",
    "\n",
    "    # Guardar la figura como un archivo JPG\n",
    "    plt.savefig('mean_comparison_plot.jpg')\n",
    "    plt.show()\n",
    "\n",
    "def plot_std_comparison(results_python, results_cpp, results_go):\n",
    "    plt.figure(figsize=(10, 6))\n",
    "    plt.grid(True)\n",
    "\n",
    "    # Python\n",
    "    _, std_time_python = calculate_mean_and_std(results_python)\n",
    "    sizes_python, times_python = zip(*results_python)\n",
    "    plt.errorbar(sizes_python, times_python, yerr=std_time_python, label='Python', marker='o', linestyle='-')\n",
    "\n",
    "    # C++\n",
    "    _, std_time_cpp = calculate_mean_and_std(results_cpp)\n",
    "    sizes_cpp, times_cpp = zip(*results_cpp)\n",
    "    plt.errorbar(sizes_cpp, times_cpp, yerr=std_time_cpp, label='C++', marker='s', linestyle='--')\n",
    "\n",
    "    # Go\n",
    "    _, std_time_go = calculate_mean_and_std(results_go)\n",
    "    sizes_go, times_go = zip(*results_go)\n",
    "    plt.errorbar(sizes_go, times_go, yerr=std_time_go, label='Go', marker='x', linestyle='-.')\n",
    "    \n",
    "    plt.xlabel('Tamaño de la lista')\n",
    "    plt.ylabel('Tiempo de ejecución (segundos)')\n",
    "    plt.title('Comparativa de desviaciones estándar de tiempos de ejecución entre Python, C++ y Go')\n",
    "    plt.legend()\n",
    "    plt.tight_layout()\n",
    "\n",
    "    # Guardar la figura como un archivo JPG\n",
    "    plt.savefig('std_comparison_plot.jpg')\n",
    "    plt.show()\n",
    "\n",
    "if __name__ == \"__main__\":\n",
    "    results_python = read_csv('results_python_media.csv')\n",
    "    results_cpp = read_csv('results_cpp_media.csv')\n",
    "    results_go = read_csv('results_go_media.csv')\n",
    "\n",
    "    plot_mean_comparison(results_python, results_cpp, results_go)\n",
    "    #plot_std_comparison(results_python, results_cpp, results_go)\n"
   ]
  }
 ],
 "metadata": {
  "kernelspec": {
   "display_name": "Python 3",
   "language": "python",
   "name": "python3"
  },
  "language_info": {
   "codemirror_mode": {
    "name": "ipython",
    "version": 3
   },
   "file_extension": ".py",
   "mimetype": "text/x-python",
   "name": "python",
   "nbconvert_exporter": "python",
   "pygments_lexer": "ipython3",
   "version": "3.10.10"
  },
  "orig_nbformat": 4
 },
 "nbformat": 4,
 "nbformat_minor": 2
}
