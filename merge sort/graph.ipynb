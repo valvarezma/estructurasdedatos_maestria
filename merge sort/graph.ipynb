{
 "cells": [
  {
   "cell_type": "code",
   "execution_count": null,
   "metadata": {},
   "outputs": [],
   "source": [
    "import csv\n",
    "import matplotlib.pyplot as plt\n",
    "\n",
    "def read_csv(file_path):\n",
    "    with open(file_path, 'r') as csvfile:\n",
    "        reader = csv.DictReader(csvfile)\n",
    "        data = [(int(row['Tamaño de la lista']), float(row['Tiempo de ejecución (segundos)'])) for row in reader]\n",
    "    return data\n",
    "\n",
    "def plot_comparison(results_python, results_cpp, results_go):\n",
    "    sizes_python, times_python = zip(*results_python)\n",
    "    sizes_cpp, times_cpp = zip(*results_cpp)\n",
    "    sizes_go, times_go = zip(*results_go)\n",
    "\n",
    "    plt.figure(figsize=(10, 6))\n",
    "    plt.plot(sizes_python, times_python, label='Python', marker='o', linestyle='-')\n",
    "    plt.plot(sizes_cpp, times_cpp, label='C++', marker='s', linestyle='--')\n",
    "    plt.plot(sizes_go, times_go, label='Go', marker='x', linestyle='-.')\n",
    "    \n",
    "    plt.xlabel('Tamaño de la lista')\n",
    "    plt.ylabel('Tiempo de ejecución (segundos)')\n",
    "    plt.title('Comparativa de tiempos de ejecución entre Python, C++ y Go')\n",
    "    plt.legend()\n",
    "    plt.grid(True)\n",
    "    plt.tight_layout()\n",
    "\n",
    "    plt.show()\n",
    "\n",
    "if __name__ == \"__main__\":\n",
    "    results_python = read_csv('results_python.csv')\n",
    "    results_cpp = read_csv('results_cpp.csv')\n",
    "    results_go = read_csv('results_go.csv')\n",
    "\n",
    "    plot_comparison(results_python, results_cpp, results_go)\n"
   ]
  }
 ],
 "metadata": {
  "language_info": {
   "name": "python"
  },
  "orig_nbformat": 4
 },
 "nbformat": 4,
 "nbformat_minor": 2
}
